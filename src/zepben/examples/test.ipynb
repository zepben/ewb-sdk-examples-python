{
 "cells": [
  {
   "cell_type": "code",
   "execution_count": null,
   "metadata": {
    "vscode": {
     "languageId": "plaintext"
    }
   },
   "outputs": [],
   "source": [
    "import asyncio\n",
    "import json\n",
    "\n",
    "from zepben.evolve import connect_with_token, NetworkConsumerClient\n",
    "\n",
    "with open(\"config.json\") as f:\n",
    "    c = json.loads(f.read())\n",
    "\n",
    "\n",
    "async def main():\n",
    "    # See connecting_to_grpc_service.py for examples of each connect function\n",
    "    print(\"Connecting to EWB..\")\n",
    "    channel = connect_with_token(host=c[\"host\"], access_token=c[\"access_token\"], rpc_port=c[\"rpc_port\"])\n",
    "    client = NetworkConsumerClient(channel)\n",
    "    print(\"Connection established..\")\n",
    "    # Fetch network hierarchy\n",
    "    network_hierarchy = await client.get_network_hierarchy()\n",
    "\n",
    "    print(\"Network hierarchy:\")\n",
    "    for gr in network_hierarchy.result.geographical_regions.values():\n",
    "        print(f\"- {gr.name}\")\n",
    "        for sgr in gr.sub_geographical_regions:\n",
    "            print(f\"  - {sgr.name}\")\n",
    "            for sub in sgr.substations:\n",
    "                print(f\"    - {sub.name}\")\n",
    "                for fdr in sub.feeders:\n",
    "                    print(f\"      - {fdr.name}\")\n",
    "\n",
    "\n",
    "await main()\n"
   ]
  }
 ],
 "metadata": {
  "language_info": {
   "name": "python"
  }
 },
 "nbformat": 4,
 "nbformat_minor": 2
}
